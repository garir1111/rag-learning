{
  "cells": [
    {
      "cell_type": "markdown",
      "metadata": {},
      "source": [
        "# 2章"
      ]
    },
    {
      "cell_type": "code",
      "execution_count": 13,
      "metadata": {},
      "outputs": [
        {
          "name": "stdout",
          "output_type": "stream",
          "text": [
            "✅ Python 3.13.3 | NumPy 2.3.2 | Pandas 2.3.1 | Polars 1.31.0 | Matplotlib 3.10.3 | Seaborn 0.13.2 | Scikit-learn 1.7.1\n"
          ]
        }
      ],
      "source": [
        "import sys, numpy, pandas, polars, matplotlib, seaborn, sklearn\n",
        "print(f\"✅ Python {sys.version.split()[0]} | NumPy {numpy.__version__} | Pandas {pandas.__version__} | Polars {polars.__version__} | Matplotlib {matplotlib.__version__} | Seaborn {seaborn.__version__} | Scikit-learn {sklearn.__version__}\")"
      ]
    },
    {
      "cell_type": "code",
      "execution_count": 14,
      "metadata": {},
      "outputs": [],
      "source": [
        "import os\n",
        "from dotenv import load_dotenv\n",
        "\n",
        "load_dotenv()\n",
        "\n",
        "os.environ['OPENAI_API_KEY'] = os.getenv('OPENAI_API_KEY')"
      ]
    },
    {
      "cell_type": "markdown",
      "metadata": {},
      "source": [
        "ふざけたエラーに遭遇。\n",
        "解決策...[自分用メモ：OpenAIのライブラリ使うと「TypeError: Client.__init__() got an unexpected keyword argument 'proxies'」が出る - Qiita](https://qiita.com/hatman621221/items/fafaf4ac0e906616e8bd)"
      ]
    },
    {
      "cell_type": "code",
      "execution_count": 15,
      "metadata": {},
      "outputs": [
        {
          "name": "stdout",
          "output_type": "stream",
          "text": [
            "{\n",
            "  \"id\": \"chatcmpl-BzT0NAXlZI5XiNzu1Xdb3X97k5NM3\",\n",
            "  \"choices\": [\n",
            "    {\n",
            "      \"finish_reason\": \"stop\",\n",
            "      \"index\": 0,\n",
            "      \"logprobs\": null,\n",
            "      \"message\": {\n",
            "        \"content\": \"こんにちは、ジョンさん！お会いできて嬉しいです。今日はどんなことをお話ししましょうか？\",\n",
            "        \"refusal\": null,\n",
            "        \"role\": \"assistant\",\n",
            "        \"annotations\": []\n",
            "      }\n",
            "    }\n",
            "  ],\n",
            "  \"created\": 1753989203,\n",
            "  \"model\": \"gpt-4o-mini-2024-07-18\",\n",
            "  \"object\": \"chat.completion\",\n",
            "  \"service_tier\": \"default\",\n",
            "  \"system_fingerprint\": \"fp_34a54ae93c\",\n",
            "  \"usage\": {\n",
            "    \"completion_tokens\": 27,\n",
            "    \"prompt_tokens\": 25,\n",
            "    \"total_tokens\": 52,\n",
            "    \"prompt_tokens_details\": {\n",
            "      \"cached_tokens\": 0,\n",
            "      \"audio_tokens\": 0\n",
            "    },\n",
            "    \"completion_tokens_details\": {\n",
            "      \"reasoning_tokens\": 0,\n",
            "      \"audio_tokens\": 0,\n",
            "      \"accepted_prediction_tokens\": 0,\n",
            "      \"rejected_prediction_tokens\": 0\n",
            "    }\n",
            "  }\n",
            "}\n"
          ]
        }
      ],
      "source": [
        "from openai import OpenAI\n",
        "\n",
        "client = OpenAI()\n",
        "\n",
        "response = client.chat.completions.create(\n",
        "    model=\"gpt-4o-mini\",\n",
        "    messages=[\n",
        "        {\"role\": \"system\", \"content\": \"You are a helpful assistant.\"},\n",
        "        {\"role\": \"user\", \"content\": \"こんにちは私はジョンといいます。\"},\n",
        "    ],\n",
        ")\n",
        "\n",
        "print(response.to_json(indent=2))"
      ]
    },
    {
      "cell_type": "markdown",
      "metadata": {},
      "source": [
        "## Function Calling\n",
        "\n",
        "## 概要\n",
        "\n",
        "利用可能な関数を伝えておいて、LLMに関数を使いたいという判断をさせる機能。"
      ]
    },
    {
      "cell_type": "code",
      "execution_count": 16,
      "metadata": {},
      "outputs": [],
      "source": [
        "import json\n",
        "\n",
        "def get_current_weather(location, unit=\"fahrenheit\"):\n",
        "    if \"tokyo\" in location.lower():\n",
        "        return json.dumps({\"location\": \"Tokyo\", \"temperature\": \"10\", \"unit\": unit})\n",
        "    elif \"san francisco\" in location.lower():\n",
        "        return json.dumps({\"location\": \"San Francisco\", \"temperature\": \"72\", \"unit\": unit})\n",
        "    elif \"paris\" in location.lower():\n",
        "        return json.dumps({\"location\": \"Paris\", \"temperature\": \"22\", \"unit\": unit})\n",
        "    else:\n",
        "        return json.dumps({\"location\": location, \"temperature\": \"unknown\"})"
      ]
    },
    {
      "cell_type": "code",
      "execution_count": 17,
      "metadata": {},
      "outputs": [],
      "source": [
        "tools = [\n",
        "    {\n",
        "        \"type\": \"function\",\n",
        "        \"function\": {\n",
        "            \"name\": \"get_current_weather\",\n",
        "            \"description\": \"Get the current weather in a given location\",\n",
        "            \"parameters\":{\n",
        "                \"type\": \"object\",\n",
        "                \"properties\": {\n",
        "                    \"location\": {\n",
        "                        \"type\": \"string\",\n",
        "                        \"description\": \"The city and state, e.g. San Francisco, CA\",\n",
        "                    },\n",
        "                    \"unit\": {\"type\": \"string\", \"enum\": [\"celsius\", \"fahrenheit\"]},\n",
        "                },\n",
        "                \"required\": [\"location\"],\n",
        "            },\n",
        "        },\n",
        "    }\n",
        "]"
      ]
    },
    {
      "cell_type": "code",
      "execution_count": 18,
      "metadata": {},
      "outputs": [
        {
          "name": "stdout",
          "output_type": "stream",
          "text": [
            "{\n",
            "  \"id\": \"chatcmpl-BzT0Pt5GczpcNhcu2V1FxnIBeXm1Q\",\n",
            "  \"choices\": [\n",
            "    {\n",
            "      \"finish_reason\": \"tool_calls\",\n",
            "      \"index\": 0,\n",
            "      \"logprobs\": null,\n",
            "      \"message\": {\n",
            "        \"content\": null,\n",
            "        \"refusal\": null,\n",
            "        \"role\": \"assistant\",\n",
            "        \"tool_calls\": [\n",
            "          {\n",
            "            \"id\": \"call_XR3uXIWv9RahIp2Aq7SN6INp\",\n",
            "            \"function\": {\n",
            "              \"arguments\": \"{\\\"location\\\":\\\"Tokyo\\\"}\",\n",
            "              \"name\": \"get_current_weather\"\n",
            "            },\n",
            "            \"type\": \"function\"\n",
            "          }\n",
            "        ],\n",
            "        \"annotations\": []\n",
            "      }\n",
            "    }\n",
            "  ],\n",
            "  \"created\": 1753989205,\n",
            "  \"model\": \"gpt-4o-2024-08-06\",\n",
            "  \"object\": \"chat.completion\",\n",
            "  \"service_tier\": \"default\",\n",
            "  \"system_fingerprint\": \"fp_a288987b44\",\n",
            "  \"usage\": {\n",
            "    \"completion_tokens\": 15,\n",
            "    \"prompt_tokens\": 81,\n",
            "    \"total_tokens\": 96,\n",
            "    \"prompt_tokens_details\": {\n",
            "      \"cached_tokens\": 0,\n",
            "      \"audio_tokens\": 0\n",
            "    },\n",
            "    \"completion_tokens_details\": {\n",
            "      \"reasoning_tokens\": 0,\n",
            "      \"audio_tokens\": 0,\n",
            "      \"accepted_prediction_tokens\": 0,\n",
            "      \"rejected_prediction_tokens\": 0\n",
            "    }\n",
            "  }\n",
            "}\n"
          ]
        }
      ],
      "source": [
        "from openai import OpenAI\n",
        "\n",
        "client = OpenAI()\n",
        "\n",
        "messages = [\n",
        "    {\"role\": \"user\", \"content\": \"東京の天気はどうですか？\"},\n",
        "]\n",
        "\n",
        "response = client.chat.completions.create(\n",
        "    model=\"gpt-4o\",\n",
        "    messages=messages,\n",
        "    tools=tools,\n",
        ")\n",
        "\n",
        "print(response.to_json(indent=2))"
      ]
    },
    {
      "cell_type": "markdown",
      "metadata": {},
      "source": [
        "今までは以下のように、contentに回答が入っていた。\n",
        "\n",
        "```json\n",
        "{\n",
        "  \"id\": \"chatcmpl-ByN3qPlS6TnWflRVxXv2Eoy5w2vxy\",\n",
        "  \"choices\": [\n",
        "    {\n",
        "      \"finish_reason\": \"stop\",\n",
        "      \"index\": 0,\n",
        "      \"logprobs\": null,\n",
        "      \"message\": {\n",
        "        \"content\": \"こんにちは、ジョンさん！お会いできて嬉しいです。どんなことについてお話ししましょうか？\",\n",
        "        \"refusal\": null,\n",
        "        \"role\": \"assistant\",\n",
        "        \"annotations\": []\n",
        "      }\n",
        "    }\n",
        "  ],\n",
        "  ...\n",
        "}\n",
        "```\n",
        "\n",
        "しかし今回はcontentが空で、代わりにtool_calls要素が追加され、そこにやりたいことが書いてある。\n",
        "\n",
        "```json\n",
        "{\n",
        "  \"id\": \"chatcmpl-ByNql8AqNI3x3KSQECqXHMJsMQOU3\",\n",
        "  \"choices\": [\n",
        "    {\n",
        "      \"finish_reason\": \"tool_calls\",\n",
        "      \"index\": 0,\n",
        "      \"logprobs\": null,\n",
        "      \"message\": {\n",
        "        \"content\": null,\n",
        "        \"refusal\": null,\n",
        "        \"role\": \"assistant\",\n",
        "        \"tool_calls\": [\n",
        "          {\n",
        "            \"id\": \"call_ijDcqnaT1gTexDUHPS2NdNmi\",\n",
        "            \"function\": {\n",
        "              \"arguments\": \"{\\\"location\\\":\\\"Tokyo, Japan\\\",\\\"unit\\\":\\\"celsius\\\"}\",\n",
        "              \"name\": \"get_current_weather\"\n",
        "            },\n",
        "            \"type\": \"function\"\n",
        "          }\n",
        "        ],\n",
        "        \"annotations\": []\n",
        "      }\n",
        "    }\n",
        "  ],\n",
        "...\n",
        "      \"rejected_prediction_tokens\": 0\n",
        "    }\n",
        "  }\n",
        "}\n",
        "```"
      ]
    },
    {
      "cell_type": "code",
      "execution_count": 19,
      "metadata": {},
      "outputs": [],
      "source": [
        "response_message = response.choices[0].message\n",
        "messages.append(response_message.to_dict())"
      ]
    },
    {
      "cell_type": "code",
      "execution_count": 20,
      "metadata": {},
      "outputs": [
        {
          "name": "stdout",
          "output_type": "stream",
          "text": [
            "ChatCompletionMessage(content=None, refusal=None, role='assistant', function_call=None, tool_calls=[ChatCompletionMessageToolCall(id='call_XR3uXIWv9RahIp2Aq7SN6INp', function=Function(arguments='{\"location\":\"Tokyo\"}', name='get_current_weather'), type='function')], annotations=[])\n",
            "[{'role': 'user', 'content': '東京の天気はどうですか？'}, {'content': None, 'refusal': None, 'role': 'assistant', 'tool_calls': [{'id': 'call_XR3uXIWv9RahIp2Aq7SN6INp', 'function': {'arguments': '{\"location\":\"Tokyo\"}', 'name': 'get_current_weather'}, 'type': 'function'}], 'annotations': []}]\n"
          ]
        }
      ],
      "source": [
        "print(response_message)\n",
        "print(messages)"
      ]
    },
    {
      "cell_type": "code",
      "execution_count": 21,
      "metadata": {},
      "outputs": [
        {
          "name": "stdout",
          "output_type": "stream",
          "text": [
            "{\"location\": \"Tokyo\", \"temperature\": \"10\", \"unit\": null}\n"
          ]
        }
      ],
      "source": [
        "available_functions = {\n",
        "    \"get_current_weather\": get_current_weather,\n",
        "}\n",
        "\n",
        "# 使いたい関数は複数ある可能性があるので、ループ\n",
        "for tool_call in response_message.tool_calls:\n",
        "    function_name = tool_call.function.name\n",
        "    function_to_call = available_functions[function_name]\n",
        "    function_args = json.loads(tool_call.function.arguments)\n",
        "    function_response = function_to_call(\n",
        "        location = function_args.get(\"location\"),\n",
        "        unit = function_args.get(\"unit\"),\n",
        "    )\n",
        "\n",
        "    # 書籍のミス、このコードがない。\n",
        "    print(function_response)\n",
        "\n",
        "    messages.append(\n",
        "        {\n",
        "            \"tool_call_id\": tool_call.id,\n",
        "            \"role\": \"tool\",\n",
        "            \"name\": function_name,\n",
        "            \"content\": function_response\n",
        "        }\n",
        "    )"
      ]
    },
    {
      "cell_type": "code",
      "execution_count": 22,
      "metadata": {},
      "outputs": [
        {
          "name": "stdout",
          "output_type": "stream",
          "text": [
            "[\n",
            "  {\n",
            "    \"role\": \"user\",\n",
            "    \"content\": \"東京の天気はどうですか？\"\n",
            "  },\n",
            "  {\n",
            "    \"content\": null,\n",
            "    \"refusal\": null,\n",
            "    \"role\": \"assistant\",\n",
            "    \"tool_calls\": [\n",
            "      {\n",
            "        \"id\": \"call_XR3uXIWv9RahIp2Aq7SN6INp\",\n",
            "        \"function\": {\n",
            "          \"arguments\": \"{\\\"location\\\":\\\"Tokyo\\\"}\",\n",
            "          \"name\": \"get_current_weather\"\n",
            "        },\n",
            "        \"type\": \"function\"\n",
            "      }\n",
            "    ],\n",
            "    \"annotations\": []\n",
            "  },\n",
            "  {\n",
            "    \"tool_call_id\": \"call_XR3uXIWv9RahIp2Aq7SN6INp\",\n",
            "    \"role\": \"tool\",\n",
            "    \"name\": \"get_current_weather\",\n",
            "    \"content\": \"{\\\"location\\\": \\\"Tokyo\\\", \\\"temperature\\\": \\\"10\\\", \\\"unit\\\": null}\"\n",
            "  }\n",
            "]\n"
          ]
        }
      ],
      "source": [
        "print(json.dumps(messages, ensure_ascii=False, indent=2))"
      ]
    },
    {
      "cell_type": "code",
      "execution_count": 23,
      "metadata": {},
      "outputs": [
        {
          "name": "stdout",
          "output_type": "stream",
          "text": [
            "{\n",
            "  \"id\": \"chatcmpl-BzT0QxSrjC36M3aMWrd74PecBRCiO\",\n",
            "  \"choices\": [\n",
            "    {\n",
            "      \"finish_reason\": \"stop\",\n",
            "      \"index\": 0,\n",
            "      \"logprobs\": null,\n",
            "      \"message\": {\n",
            "        \"content\": \"現在、東京の気温は10度です。詳細な天気情報は、具体的な日付や天気の状態に応じて異なる場合がありますので、ローカルの天気予報サービスで最新情報を確認してください。\",\n",
            "        \"refusal\": null,\n",
            "        \"role\": \"assistant\",\n",
            "        \"annotations\": []\n",
            "      }\n",
            "    }\n",
            "  ],\n",
            "  \"created\": 1753989206,\n",
            "  \"model\": \"gpt-4o-2024-08-06\",\n",
            "  \"object\": \"chat.completion\",\n",
            "  \"service_tier\": \"default\",\n",
            "  \"system_fingerprint\": \"fp_07871e2ad8\",\n",
            "  \"usage\": {\n",
            "    \"completion_tokens\": 54,\n",
            "    \"prompt_tokens\": 57,\n",
            "    \"total_tokens\": 111,\n",
            "    \"prompt_tokens_details\": {\n",
            "      \"cached_tokens\": 0,\n",
            "      \"audio_tokens\": 0\n",
            "    },\n",
            "    \"completion_tokens_details\": {\n",
            "      \"reasoning_tokens\": 0,\n",
            "      \"audio_tokens\": 0,\n",
            "      \"accepted_prediction_tokens\": 0,\n",
            "      \"rejected_prediction_tokens\": 0\n",
            "    }\n",
            "  }\n",
            "}\n"
          ]
        }
      ],
      "source": [
        "second_response = client.chat.completions.create(\n",
        "    model=\"gpt-4o\",\n",
        "    messages=messages,\n",
        ")\n",
        "\n",
        "print(second_response.to_json(indent=2))"
      ]
    },
    {
      "cell_type": "markdown",
      "metadata": {},
      "source": [
        "## tool_choice\n",
        "\n",
        "Chat Completions APIのパラメータには`tool_choice`がある。\n",
        "\n",
        "`= none`では、関数を呼び出さない。\n",
        "`= auto`では、いい感じに呼んでくれる。\n",
        "\n",
        "関数名を指定して、実行する関数を指定できる。"
      ]
    },
    {
      "cell_type": "markdown",
      "metadata": {},
      "source": [
        "## 二章のまとめ\n",
        "\n",
        "GPT 4o, GPT 4o-miniをAPIで呼びたいときは、`Chat Completions API`を使用する。\n",
        "\n",
        "`Chat Completions API`はステートレスであるため、会話履歴を踏まえて応答してほしいときは、全会話履歴をリクエストに持たせる。\n",
        "\n",
        "料金はモデルの種類と入出力のトークン数で決まる。\n",
        "使用したトークン数はレスポンスに含まれる。\n",
        "\n",
        "function_calling機能では、LLMにローカルの関数を使うか判断させることが出来る。\n",
        "AIエージェントの実装に使われることが多い。"
      ]
    }
  ],
  "metadata": {
    "kernelspec": {
      "display_name": "rag_learning",
      "language": "python",
      "name": "python3"
    },
    "language_info": {
      "codemirror_mode": {
        "name": "ipython",
        "version": 3
      },
      "file_extension": ".py",
      "mimetype": "text/x-python",
      "name": "python",
      "nbconvert_exporter": "python",
      "pygments_lexer": "ipython3",
      "version": "3.13.3"
    }
  },
  "nbformat": 4,
  "nbformat_minor": 2
}
