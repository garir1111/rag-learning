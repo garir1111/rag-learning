{
  "cells": [
    {
      "cell_type": "markdown",
      "metadata": {},
      "source": [
        "# 3章 プロンプトエンジニアリング\n",
        "\n",
        "LLMに指示出しをすること、その指示を守らせること。\n",
        "LLMに追加学習をさせるファインチューニングというのもあるが、プロンプトエンジニアリングでなんとかなることも多い。"
      ]
    },
    {
      "cell_type": "code",
      "execution_count": 1,
      "metadata": {},
      "outputs": [
        {
          "name": "stdout",
          "output_type": "stream",
          "text": [
            "✅ Python 3.13.3 | NumPy 2.3.2 | Pandas 2.3.1 | Polars 1.31.0 | Matplotlib 3.10.3 | Seaborn 0.13.2 | Scikit-learn 1.7.1\n"
          ]
        }
      ],
      "source": [
        "import sys, numpy, pandas, polars, matplotlib, seaborn, sklearn\n",
        "print(f\"✅ Python {sys.version.split()[0]} | NumPy {numpy.__version__} | Pandas {pandas.__version__} | Polars {polars.__version__} | Matplotlib {matplotlib.__version__} | Seaborn {seaborn.__version__} | Scikit-learn {sklearn.__version__}\")"
      ]
    },
    {
      "cell_type": "code",
      "execution_count": 2,
      "metadata": {},
      "outputs": [],
      "source": [
        "import os\n",
        "from dotenv import load_dotenv\n",
        "\n",
        "load_dotenv()\n",
        "\n",
        "os.environ['OPENAI_API_KEY'] = os.getenv('OPENAI_API_KEY')"
      ]
    },
    {
      "cell_type": "code",
      "execution_count": 3,
      "metadata": {},
      "outputs": [
        {
          "name": "stdout",
          "output_type": "stream",
          "text": [
            "プロンプトエンジニアリングとは、AIや機械学習モデル（特に自然言語処理モデル）に対して最適な入力（プロンプト）を設計・調整する技術や手法のことを指します。特に、GPTのような大規模な言語モデルに対しては、適切なプロンプトを作成することで、モデルから望ましい出力を引き出すことが可能になります。\n",
            "\n",
            "プロンプトエンジニアリングには以下のような要素が含まれます。\n",
            "\n",
            "1. **明確な指示**: モデルに期待するアウトプットを明確にするための具体的な指示を与えること。\n",
            "2. **コンテキスト提供**: モデルがより良い回答を生成するために必要な背景情報やコンテキストを含めること。\n",
            "3. **形式の工夫**: 質問の形式やスタイルを調整することで、より良い結果を得られるようにすること。\n",
            "4. **反復的な改善**: 出力結果を基にプロンプトを調整し、試行錯誤を重ねること。\n",
            "\n",
            "プロンプトエンジニアリングは、特にAIを活用したアプリケーションや研究において、その成果や効果を最大化するための重要なスキルとなっています。\n"
          ]
        }
      ],
      "source": [
        "from openai import OpenAI\n",
        "\n",
        "client = OpenAI()\n",
        "\n",
        "response = client.chat.completions.create(\n",
        "    model=\"gpt-4o-mini\",\n",
        "    messages=[\n",
        "        {\"role\": \"user\", \"content\": \"プロンプトエンジニアリングとは\"},\n",
        "    ],\n",
        ")\n",
        "\n",
        "print(response.choices[0].message.content)"
      ]
    },
    {
      "cell_type": "markdown",
      "metadata": {},
      "source": [
        "長いので文字数を制限してみる"
      ]
    },
    {
      "cell_type": "code",
      "execution_count": 4,
      "metadata": {},
      "outputs": [
        {
          "name": "stdout",
          "output_type": "stream",
          "text": [
            "プロンプトエンジニアリングとは、AIモデルに対して最適な入力（プロンプト）を設計する技術です。言語モデルの応答を改善するために、具体的な問いや指示を工夫し、意図した結果を引き出すことを目的としています。\n"
          ]
        }
      ],
      "source": [
        "from openai import OpenAI\n",
        "\n",
        "client = OpenAI()\n",
        "\n",
        "response = client.chat.completions.create(\n",
        "    model=\"gpt-4o-mini\",\n",
        "    messages=[\n",
        "        {\"role\": \"system\", \"content\": \"質問に100文字程度で答えてください\"},\n",
        "        {\"role\": \"user\", \"content\": \"プロンプトエンジニアリングとは\"},\n",
        "    ],\n",
        ")\n",
        "\n",
        "print(response.choices[0].message.content)"
      ]
    },
    {
      "cell_type": "markdown",
      "metadata": {},
      "source": [
        "レシピ生成AIアプリを考える。\n",
        "\n",
        "1. GUI上、カレーとだけ入力\n",
        "2. pythonなどで、「あなたは一流の料理人です。カレーのレシピを、、、」のような文章をつくる。\n",
        "3. 作った文章をLLMに投げて回答をもらう。"
      ]
    },
    {
      "cell_type": "code",
      "execution_count": null,
      "metadata": {},
      "outputs": [
        {
          "name": "stdout",
          "output_type": "stream",
          "text": [
            "もちろん、カレーのレシピをお伝えします！以下は基本的なチキンカレーのレシピです。お好みで具材を追加したり、スパイスの量を調整してください。\n",
            "\n",
            "### チキンカレーのレシピ\n",
            "\n",
            "#### 材料（4人分）\n",
            "- 鶏もも肉：500g（食べやすい大きさにカット）\n",
            "- 玉ねぎ：2個（みじん切り）\n",
            "- にんにく：2片（みじん切り）\n",
            "- 生姜：1片（みじん切り）\n",
            "- トマト：1個（粗みじん切り）\n",
            "- カレーパウダー：大さじ2\n",
            "- クミンパウダー：小さじ1\n",
            "- コリアンダーパウダー：小さじ1\n",
            "- 塩：適量\n",
            "- 黒胡椒：適量\n",
            "- サラダ油：大さじ2\n",
            "- 水：400ml\n",
            "- ココナッツミルク（または生クリーム）：200ml（お好みで）\n",
            "- パクチーや青ねぎ（飾り用）：適量\n",
            "\n",
            "#### 作り方\n",
            "1. **下準備**:\n",
            "   - 鶏肉は食べやすい大きさにカットします。\n",
            "   - 玉ねぎ、にんにく、生姜、トマトをそれぞれみじん切りにします。\n",
            "\n",
            "2. **炒める**:\n",
            "   - 中火で鍋を熱し、サラダ油を加えます。\n",
            "   - 玉ねぎを入れ、透明になるまで炒めます（約5〜7分）。\n",
            "   - にんにくと生姜を加え、香りが立つまでさらに1〜2分炒めます。\n",
            "\n",
            "3. **スパイスを加える**:\n",
            "   - カレーパウダー、クミンパウダー、コリアンダーパウダーを加え、香りが出るまで1分程炒めます。\n",
            "\n",
            "4. **肉を加える**:\n",
            "   - 鶏肉を鍋に加え、全体にスパイスを絡めながら炒めます。鶏肉の表面が白くなるまで炒めてください。\n",
            "\n",
            "5. **煮込む**:\n",
            "   - トマトを加え、全体をよく混ぜます。水を加え、かき混ぜたら、蓋をし、中火で約20〜25分煮込みます。途中で焦げないように混ぜてください。\n",
            "\n",
            "6. **仕上げ**:\n",
            "   - 最後に、ココナッツミルク（または生クリーム）を加え、さらに5分煮込みます。塩と黒胡椒で味を調えます。\n",
            "\n",
            "7. **盛り付け**:\n",
            "   - 皿に盛り付け、お好みでパクチーや青ねぎを飾って完成です。\n",
            "\n",
            "#### 提供方法\n",
            "- ご飯やナンと一緒に提供して楽しんでください。\n",
            "- 辛さを調整するために、チリパウダーや刻んだ青唐辛子を加えても良いでしょう。\n",
            "\n",
            "お好みの材料を追加して、自分だけのカレーを楽しんでください！\n"
          ]
        }
      ],
      "source": [
        "prompt = '''\\\n",
        "以下の料理のレシピを考えてください。\n",
        "\n",
        "料理名: \"\"\"\n",
        "{dish}\n",
        "\"\"\"\n",
        "'''\n",
        "\n",
        "def generate_recipe(dish: str) -> str:\n",
        "    response = client.chat.completions.create(\n",
        "        model=\"gpt-4o-mini\",\n",
        "        messages=[\n",
        "            {\"role\": \"user\", \"content\": prompt.format(dish=dish)},\n",
        "        ],\n",
        "    )\n",
        "    return response.choices[0].message.content\n",
        "\n",
        "recipe = generate_recipe(\"カレー\")\n",
        "print(recipe)"
      ]
    },
    {
      "cell_type": "markdown",
      "metadata": {},
      "source": [
        "以下のように書くことも出来る。"
      ]
    },
    {
      "cell_type": "code",
      "execution_count": 6,
      "metadata": {},
      "outputs": [
        {
          "name": "stdout",
          "output_type": "stream",
          "text": [
            "カレーのレシピをご紹介します。以下の材料と手順で、シンプルで美味しいカレーを作りましょう。\n",
            "\n",
            "### 材料（4人分）\n",
            "- 鶏肉（もも肉または胸肉）400g\n",
            "- 玉ねぎ 2個\n",
            "- にんじん 1本\n",
            "- じゃがいも 2個\n",
            "- カレールー 1箱（約200g）\n",
            "- 水 800ml\n",
            "- サラダ油 大さじ2\n",
            "- 塩 適量\n",
            "- こしょう 適量\n",
            "- お好みでガーリックパウダーやスパイス（クミンやターメリックなど）\n",
            "\n",
            "### 作り方\n",
            "1. **下準備**:\n",
            "   - 鶏肉は一口大に切り、塩とこしょうをふります。\n",
            "   - 玉ねぎは薄切り、にんじんとじゃがいもは一口大に切ります。\n",
            "\n",
            "2. **炒める**:\n",
            "   - 大きめの鍋にサラダ油を熱し、中火で玉ねぎを加え、しんなりして透明になるまで炒めます。\n",
            "\n",
            "3. **鶏肉を加える**:\n",
            "   - 鶏肉を鍋に加え、表面が白くなるまで炒めます。\n",
            "\n",
            "4. **野菜を加える**:\n",
            "   - にんじんとじゃがいもを鍋に追加し、全体を混ぜながら数分炒めます。\n",
            "\n",
            "5. **煮る**:\n",
            "   - 鍋に水を加え、沸騰させたらアクを取り、中火にして蓋をし、約15分煮ます。\n",
            "\n",
            "6. **カレールーを加える**:\n",
            "   - カレールーを鍋に加え、溶けるまで混ぜます。さらに10分ほど煮込み、全体がなじんだら火を止めます。\n",
            "\n",
            "7. **仕上げ**:\n",
            "   - 味を見て、必要であれば塩やスパイスで調整します。\n",
            "\n",
            "8. **盛り付け**:\n",
            "   - ご飯と一緒に盛り付けて、お好みでらっきょうや福神漬けを添えて完成です。\n",
            "\n",
            "### ポイント\n",
            "- 野菜はお好みで加減したり、他の野菜（ピーマン、ナスなど）を追加することもできます。\n",
            "- 辛さを調整したい場合は、辛口のカレールーを使ったり、チリパウダーを加えたりします。\n",
            "\n",
            "美味しいカレーを楽しんでください！\n"
          ]
        }
      ],
      "source": [
        "def generate_recipe(dish: str) -> str:\n",
        "    response = client.chat.completions.create(\n",
        "        model=\"gpt-4o-mini\",\n",
        "        messages=[\n",
        "            {\"role\": \"system\", \"content\": \"ユーザが入力した料理のレシピを考えてください\"},\n",
        "            {\"role\": \"user\", \"content\": f\"{dish}\"},\n",
        "        ],\n",
        "    )\n",
        "    return response.choices[0].message.content\n",
        "\n",
        "recipe = generate_recipe(\"カレー\")\n",
        "print(recipe)"
      ]
    },
    {
      "cell_type": "markdown",
      "metadata": {},
      "source": [
        "## テクニック\n",
        "\n",
        "### 命令と入力データを分離する\n",
        "\n",
        "```plaintext\n",
        "以下の料理のレシピを考えてください。\n",
        "\n",
        "料理名: \"\"\"\n",
        "カレー\n",
        "\"\"\"\n",
        "```\n",
        "\n",
        "というのがあったとき、前半部分が命令で、カレーが入力である。\n",
        "入力は\"\"\"などで囲い、わかりやすくする。\n",
        "\n",
        "### 文脈を与える\n",
        "\n",
        "以下のように前提条件などをプロンプトに含める。\n",
        "\n",
        "```plaintext\n",
        "前提条件を踏まえて、以下の料理のレシピを考えてください。\n",
        "\n",
        "前提条件: \"\"\"\n",
        "分量: 1人分\n",
        "味の好み: 辛口\n",
        "\"\"\"\n",
        "\n",
        "料理名: \"\"\"\n",
        "カレー\n",
        "\"\"\"\n",
        "```\n",
        "\n",
        "参考になりそうなレシピを与えておくという手法もある。\n",
        "\n",
        "### 出力形式を指定する\n",
        "\n",
        "〇〇といったjson形式で答えてください。という感じ。"
      ]
    },
    {
      "cell_type": "code",
      "execution_count": 7,
      "metadata": {},
      "outputs": [
        {
          "name": "stdout",
          "output_type": "stream",
          "text": [
            "{\n",
            "    \"材料\": [\"カレールー\", \"鶏肉\", \"玉ねぎ\", \"じゃがいも\", \"にんじん\", \"水\", \"油\", \"塩\"],\n",
            "    \"手順\": [\"鶏肉を一口大に切る\", \"玉ねぎ、じゃがいも、にんじんを適当な大きさに切る\", \"鍋に油を熱し、玉ねぎを炒める\", \"鶏肉を加え、表面が白くなるまで炒める\", \"じゃがいもとにんじんを加え、軽く炒める\", \"水を加え、煮立ったらアクを取る\", \"カレールーを割り入れ、よく混ぜながら煮込む\", \"好みの濃度になったら塩で味を調える\"]\n",
            "}\n"
          ]
        }
      ],
      "source": [
        "prompt = \"\"\"\\\n",
        "ユーザが入力したの料理のレシピを考えてください。\n",
        "\n",
        "出力は以下のjson形式にしてください。\n",
        "```\n",
        "{\n",
        "    \"材料\": [\"材料1\", \"材料2\"],\n",
        "    \"手順\": [\"手順1\", \"手順2\"]\n",
        "}\n",
        "```\n",
        "\"\"\"\n",
        "\n",
        "response = client.chat.completions.create(\n",
        "    model=\"gpt-4o-mini\",\n",
        "    messages=[\n",
        "        {\"role\": \"system\", \"content\": prompt},\n",
        "        {\"role\": \"user\", \"content\": \"カレー\"},\n",
        "    ],\n",
        ")\n",
        "\n",
        "print(response.choices[0].message.content)"
      ]
    },
    {
      "cell_type": "markdown",
      "metadata": {},
      "source": [
        "## よくあるテクニック\n",
        "\n",
        "### Zero-shotプロンプティング\n",
        "\n",
        "あらかじめ情報を与えずに、質問のみを投げかけるプロンプト\n",
        "\n",
        "### Few-shotプロンプティング\n",
        "\n",
        "デモンストレーションなどの例を与えるプロンプト\n",
        "\n",
        "例が一つならOne-shotプロンプティングという。"
      ]
    },
    {
      "cell_type": "code",
      "execution_count": 8,
      "metadata": {},
      "outputs": [
        {
          "name": "stdout",
          "output_type": "stream",
          "text": [
            "true\n"
          ]
        }
      ],
      "source": [
        "response = client.chat.completions.create(\n",
        "    model=\"gpt-4o-mini\",\n",
        "    messages=[\n",
        "        {\"role\": \"system\", \"content\": \"入力がAIに関連するか回答してください。\"},\n",
        "        {\"role\": \"user\", \"content\": \"AIの進化はすごい\"},\n",
        "        {\"role\": \"assistant\", \"content\": \"true\"},\n",
        "        {\"role\": \"user\", \"content\": \"今日はいい天気だ\"},\n",
        "        {\"role\": \"assistant\", \"content\": \"false\"},\n",
        "        {\"role\": \"user\", \"content\": \"chatGPTはとても便利だ\"},\n",
        "    ],\n",
        ")\n",
        "\n",
        "print(response.choices[0].message.content)"
      ]
    },
    {
      "cell_type": "markdown",
      "metadata": {},
      "source": [
        "言語モデルに例を入れてタスクを学習させることをIn-context Learningという。\n",
        "\n",
        "### Zero-shot Chain-of-Thoughtプロンプティング\n",
        "\n",
        "「ステップバイステップで考えてください。」と追加する。"
      ]
    },
    {
      "cell_type": "code",
      "execution_count": 9,
      "metadata": {},
      "outputs": [
        {
          "name": "stdout",
          "output_type": "stream",
          "text": [
            "10\n"
          ]
        }
      ],
      "source": [
        "response = client.chat.completions.create(\n",
        "    model=\"gpt-4o-mini\",\n",
        "    messages=[\n",
        "        {\"role\": \"system\", \"content\": \"回答だけ、一言で出力してください。\"},\n",
        "        {\"role\": \"user\", \"content\": \"10 + 2 * 3 - 4 * 2\"},\n",
        "    ],\n",
        ")\n",
        "\n",
        "print(response.choices[0].message.content)"
      ]
    },
    {
      "cell_type": "code",
      "execution_count": 10,
      "metadata": {},
      "outputs": [
        {
          "name": "stdout",
          "output_type": "stream",
          "text": [
            "12\n"
          ]
        }
      ],
      "source": [
        "response = client.chat.completions.create(\n",
        "    model=\"gpt-4o\",\n",
        "    messages=[\n",
        "        {\"role\": \"system\", \"content\": \"回答だけ、一言で出力してください。\"},\n",
        "        {\"role\": \"user\", \"content\": \"10 + 2 * 3 - 4 * 2\"},\n",
        "    ],\n",
        ")\n",
        "\n",
        "print(response.choices[0].message.content)"
      ]
    },
    {
      "cell_type": "code",
      "execution_count": 11,
      "metadata": {},
      "outputs": [
        {
          "name": "stdout",
          "output_type": "stream",
          "text": [
            "数式を計算するために、順番に計算を行います。数学の演算規則に従い、まず掛け算を行い、その後に足し算と引き算を行います。\n",
            "\n",
            "1. **掛け算を計算**:\n",
            "   - \\(2 * 3 = 6\\)\n",
            "   - \\(4 * 2 = 8\\)\n",
            "\n",
            "2. **数式に代入**:\n",
            "   - \\(10 + 6 - 8\\)\n",
            "\n",
            "3. **足し算を計算**:\n",
            "   - \\(10 + 6 = 16\\)\n",
            "\n",
            "4. **引き算を計算**:\n",
            "   - \\(16 - 8 = 8\\)\n",
            "\n",
            "したがって、答えは**8**です。\n"
          ]
        }
      ],
      "source": [
        "response = client.chat.completions.create(\n",
        "    model=\"gpt-4o-mini\",\n",
        "    messages=[\n",
        "        {\"role\": \"system\", \"content\": \"ステップバイステップで考えてください。\"},\n",
        "        {\"role\": \"user\", \"content\": \"10 + 2 * 3 - 4 * 2\"},\n",
        "    ],\n",
        ")\n",
        "\n",
        "print(response.choices[0].message.content)"
      ]
    },
    {
      "cell_type": "markdown",
      "metadata": {},
      "source": [
        "モデルによっては元々CoTするようになっているので、やる必要はないこともある。"
      ]
    }
  ],
  "metadata": {
    "kernelspec": {
      "display_name": "rag_learning",
      "language": "python",
      "name": "python3"
    },
    "language_info": {
      "codemirror_mode": {
        "name": "ipython",
        "version": 3
      },
      "file_extension": ".py",
      "mimetype": "text/x-python",
      "name": "python",
      "nbconvert_exporter": "python",
      "pygments_lexer": "ipython3",
      "version": "3.13.3"
    }
  },
  "nbformat": 4,
  "nbformat_minor": 2
}
