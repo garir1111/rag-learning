{
 "cells": [
  {
   "cell_type": "markdown",
   "metadata": {},
   "source": [
    "# 1章\n",
    "\n",
    "概念論。\n",
    "\n",
    "AIは、エージェントになっていく必要がある。\n",
    "\n",
    "おわり。"
   ]
  }
 ],
 "metadata": {
  "kernelspec": {
   "display_name": "rag_learning",
   "language": "python",
   "name": "python3"
  },
  "language_info": {
   "codemirror_mode": {
    "name": "ipython",
    "version": 3
   },
   "file_extension": ".py",
   "mimetype": "text/x-python",
   "name": "python",
   "nbconvert_exporter": "python",
   "pygments_lexer": "ipython3",
   "version": "3.13.3"
  }
 },
 "nbformat": 4,
 "nbformat_minor": 2
}